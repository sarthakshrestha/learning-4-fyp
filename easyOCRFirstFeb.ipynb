{
 "cells": [
  {
   "cell_type": "markdown",
   "id": "3a8d96b9-0d6d-4f7f-a3cb-f75525532a2b",
   "metadata": {},
   "source": [
    "# Installing required dependencies for Character Recognition"
   ]
  },
  {
   "cell_type": "code",
   "execution_count": null,
   "id": "c41447b3-ce17-4b30-937d-a0d6131ae8bd",
   "metadata": {},
   "outputs": [],
   "source": []
  }
 ],
 "metadata": {
  "kernelspec": {
   "display_name": "Python 3 (ipykernel)",
   "language": "python",
   "name": "python3"
  },
  "language_info": {
   "codemirror_mode": {
    "name": "ipython",
    "version": 3
   },
   "file_extension": ".py",
   "mimetype": "text/x-python",
   "name": "python",
   "nbconvert_exporter": "python",
   "pygments_lexer": "ipython3",
   "version": "3.12.1"
  }
 },
 "nbformat": 4,
 "nbformat_minor": 5
}
