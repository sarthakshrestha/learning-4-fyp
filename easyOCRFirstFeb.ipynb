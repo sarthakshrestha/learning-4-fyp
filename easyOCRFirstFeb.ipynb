{
 "cells": [
  {
   "cell_type": "markdown",
   "id": "3a8d96b9-0d6d-4f7f-a3cb-f75525532a2b",
   "metadata": {},
   "source": [
    "# Installing the required dependencies for Character Recognition\n",
    "\n",
    "1. pyTorch\n",
    "2. EasyOCR\n",
    "3. OCRs"
   ]
  },
  {
   "cell_type": "markdown",
   "id": "79fa691d-6c8f-4890-bd16-9718de2351ae",
   "metadata": {},
   "source": [
    "## For installing pyTorch the following command can be executed\n",
    "`pip3 install torch torchvision torchaudio`\n",
    "\n",
    "## Installing easyOCR\n",
    "\n",
    "`pip3 install easyocr`\n",
    "\n"
   ]
  },
  {
   "cell_type": "markdown",
   "id": "4b367464-a781-4100-95bb-acf6dc7294a9",
   "metadata": {},
   "source": [
    "### Importing the required dependencies"
   ]
  },
  {
   "cell_type": "code",
   "execution_count": 2,
   "id": "f547fb42-56c3-4e53-9334-9e77d480ca2f",
   "metadata": {},
   "outputs": [],
   "source": [
    "import easyocr \n",
    "import cv2\n",
    "from matplotlib import pyplot as plt\n",
    "import numpy as np"
   ]
  },
  {
   "cell_type": "code",
   "execution_count": null,
   "id": "79a790eb-2ac6-407c-ba9b-5de1d7dc25ab",
   "metadata": {},
   "outputs": [],
   "source": []
  }
 ],
 "metadata": {
  "kernelspec": {
   "display_name": "Python 3 (ipykernel)",
   "language": "python",
   "name": "python3"
  },
  "language_info": {
   "codemirror_mode": {
    "name": "ipython",
    "version": 3
   },
   "file_extension": ".py",
   "mimetype": "text/x-python",
   "name": "python",
   "nbconvert_exporter": "python",
   "pygments_lexer": "ipython3",
   "version": "3.12.1"
  }
 },
 "nbformat": 4,
 "nbformat_minor": 5
}
