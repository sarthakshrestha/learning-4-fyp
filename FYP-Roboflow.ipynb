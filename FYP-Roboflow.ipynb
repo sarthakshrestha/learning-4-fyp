{
 "cells": [
  {
   "cell_type": "markdown",
   "id": "1d5f2e87-272b-4f6f-b032-3e6bd4308fa6",
   "metadata": {},
   "source": [
    "## Initialized Dataset and Roboflow"
   ]
  },
  {
   "cell_type": "markdown",
   "id": "6ac3aa5a-e1d9-4706-9fe0-493a9112f2a1",
   "metadata": {},
   "source": [
    "Cloned Images from few Roboflow projects"
   ]
  },
  {
   "cell_type": "code",
   "execution_count": null,
   "id": "6d393c75-607a-49f3-8d32-0bd17237cb0e",
   "metadata": {},
   "outputs": [],
   "source": [
    "!pip install roboflow\n",
    "\n",
    "from roboflow import Roboflow\n",
    "rf = Roboflow(api_key=\"DtA6SiqmktZJkoPG0o0N\")\n",
    "project = rf.workspace(\"license-plate-detection-system\").project(\"license-plate-detection-system\")\n",
    "dataset = project.version(3).download(\"yolov8\")\n"
   ]
  },
  {
   "cell_type": "code",
   "execution_count": null,
   "id": "45c90c17-d4d4-4c45-810a-d9a67d53c3b7",
   "metadata": {},
   "outputs": [],
   "source": []
  }
 ],
 "metadata": {
  "kernelspec": {
   "display_name": "Python 3 (ipykernel)",
   "language": "python",
   "name": "python3"
  },
  "language_info": {
   "codemirror_mode": {
    "name": "ipython",
    "version": 3
   },
   "file_extension": ".py",
   "mimetype": "text/x-python",
   "name": "python",
   "nbconvert_exporter": "python",
   "pygments_lexer": "ipython3",
   "version": "3.12.1"
  }
 },
 "nbformat": 4,
 "nbformat_minor": 5
}
