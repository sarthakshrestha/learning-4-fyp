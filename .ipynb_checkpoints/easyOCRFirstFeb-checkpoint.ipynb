{
 "cells": [
  {
   "cell_type": "markdown",
   "id": "3a8d96b9-0d6d-4f7f-a3cb-f75525532a2b",
   "metadata": {},
   "source": [
    "# Installing the required dependencies for Character Recognition\n",
    "\n",
    "1. pyTorch\n",
    "2. EasyOCR\n",
    "3. OCRs\n",
    "\n",
    "Source, using YouTube: `https://www.youtube.com/watch?v=ZVKaWPW9oQY&ab_channel=NicholasRenotte`"
   ]
  },
  {
   "cell_type": "markdown",
   "id": "79fa691d-6c8f-4890-bd16-9718de2351ae",
   "metadata": {},
   "source": [
    "## For installing pyTorch the following command can be executed\n",
    "`pip3 install torch torchvision torchaudio`\n",
    "\n",
    "## Installing easyOCR\n",
    "\n",
    "`pip3 install easyocr`\n",
    "\n"
   ]
  },
  {
   "cell_type": "markdown",
   "id": "4b367464-a781-4100-95bb-acf6dc7294a9",
   "metadata": {},
   "source": [
    "### Importing the required dependencies"
   ]
  },
  {
   "cell_type": "code",
   "execution_count": 4,
   "id": "f547fb42-56c3-4e53-9334-9e77d480ca2f",
   "metadata": {},
   "outputs": [],
   "source": [
    "import easyocr \n",
    "import cv2\n",
    "from matplotlib import pyplot as plt\n",
    "import numpy as np"
   ]
  },
  {
   "cell_type": "markdown",
   "id": "0648a94a",
   "metadata": {},
   "source": [
    "### 1. Read in images or video"
   ]
  },
  {
   "cell_type": "code",
   "execution_count": 7,
   "id": "d9813a7a",
   "metadata": {},
   "outputs": [],
   "source": [
    "IMAGE_PATH=(\"image/plate.png\")"
   ]
  },
  {
   "cell_type": "code",
   "execution_count": 8,
   "id": "6ef853d6-5396-4b8d-b400-90f8760a3f49",
   "metadata": {},
   "outputs": [
    {
     "name": "stdout",
     "output_type": "stream",
     "text": [
      "[([[201, 19], [363, 19], [363, 59], [201, 59]], 'BAGMATI', 0.9328148144872144), ([[208, 76], [282, 76], [282, 174], [208, 174]], '3', 0.5481197229816104), ([[346, 62], [510, 62], [510, 190], [346, 190]], 'AB', 0.9999214391782458), ([[50, 186], [100, 186], [100, 216], [50, 216]], 'NEP', 0.9996771464904344), ([[195, 195], [517, 195], [517, 327], [195, 327]], '0123', 0.9981847405433655)]\n"
     ]
    }
   ],
   "source": [
    "# Using GPU as it speeds up the process\n",
    "\n",
    "reader = easyocr.Reader(['en'], gpu=True)\n",
    "\n",
    "# Reading the text through the image\n",
    "\n",
    "result = reader.readtext(IMAGE_PATH)\n",
    "print(result)"
   ]
  },
  {
   "cell_type": "code",
   "execution_count": 14,
   "id": "626b2b7f-4f49-4cee-b942-16a2254209fa",
   "metadata": {},
   "outputs": [
    {
     "name": "stdout",
     "output_type": "stream",
     "text": [
      "[([[28, 6], [273, 6], [273, 84], [28, 84]], 'बापएप', 0.9803716716800532), ([[3, 69], [292, 69], [292, 182], [3, 182]], '२३४६', 0.7416239352769679)]\n"
     ]
    }
   ],
   "source": [
    "# Testing if the Hindi dataset can read the image of the license plate containing\n",
    "# Devanagari characters\n",
    "IMAGE_PATH1=(\"image/nepaliplate.png\")\n",
    "\n",
    "nreader = easyocr.Reader(['hi'], gpu=True)\n",
    "\n",
    "# Reading the license plate with the Hindi characterset\n",
    "\n",
    "newresult = nreader.readtext(IMAGE_PATH1)\n",
    "print(newresult)"
   ]
  },
  {
   "cell_type": "code",
   "execution_count": 18,
   "id": "8ad6a72a-9dcd-4fa5-b378-bae97f96e051",
   "metadata": {},
   "outputs": [
    {
     "name": "stdout",
     "output_type": "stream",
     "text": [
      "[([[156, 10], [718, 10], [718, 114], [156, 114]], 'बा.२६ण', 0.2651279622038735), ([[48, 82], [846, 82], [846, 248], [48, 248]], '२र८४', 0.21654288470745087)]\n"
     ]
    }
   ],
   "source": [
    "# Testing the Hindi characterset present in easyOCR\n",
    "# for a different image containing Devanagari characters\n",
    "\n",
    "\n",
    "IMAGE_PATH2=(\"image/nepaliplate1.png\")\n",
    "\n",
    "nreader1 = easyocr.Reader(['hi'], gpu=True)\n",
    "\n",
    "# Reading the license plate with the Hindi characterset\n",
    "\n",
    "newresult1 = nreader1.readtext(IMAGE_PATH2)\n",
    "print(newresult1)\n",
    "\n",
    "# Pretty inaccurate with numbers as there are variations of how numbers are written in Nepali License Plates"
   ]
  }
 ],
 "metadata": {
  "kernelspec": {
   "display_name": "Python 3 (ipykernel)",
   "language": "python",
   "name": "python3"
  },
  "language_info": {
   "codemirror_mode": {
    "name": "ipython",
    "version": 3
   },
   "file_extension": ".py",
   "mimetype": "text/x-python",
   "name": "python",
   "nbconvert_exporter": "python",
   "pygments_lexer": "ipython3",
   "version": "3.10.12"
  }
 },
 "nbformat": 4,
 "nbformat_minor": 5
}
